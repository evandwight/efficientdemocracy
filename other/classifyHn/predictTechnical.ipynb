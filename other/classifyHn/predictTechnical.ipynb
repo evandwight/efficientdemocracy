{
 "cells": [
  {
   "cell_type": "code",
   "execution_count": 1,
   "id": "d33a2145-6581-48d3-9182-eedaa7a27d69",
   "metadata": {},
   "outputs": [],
   "source": [
    "import re\n",
    "import numpy as np # linear algebra\n",
    "import pandas as pd # data processing, CSV file I/O (e.g. pd.read_csv)\n",
    "\n",
    "# the Naive Bayes model\n",
    "from sklearn.naive_bayes import MultinomialNB\n",
    "# function to split the data for cross-validation\n",
    "from sklearn.model_selection import train_test_split\n",
    "# function for transforming documents into counts\n",
    "from sklearn.feature_extraction.text import CountVectorizer\n",
    "# function for encoding categories\n",
    "from sklearn.preprocessing import LabelEncoder"
   ]
  },
  {
   "cell_type": "code",
   "execution_count": 2,
   "id": "26a3be0f-f6e5-4252-ac8b-dadf61c47f89",
   "metadata": {},
   "outputs": [],
   "source": [
    "from urllib.parse import urlsplit"
   ]
  },
  {
   "cell_type": "code",
   "execution_count": 3,
   "id": "28ed6d2e-612c-438c-817f-b8f6771eb442",
   "metadata": {},
   "outputs": [],
   "source": [
    "# grab the data\n",
    "news = pd.read_csv(\"./data/hn.csv\")"
   ]
  },
  {
   "cell_type": "code",
   "execution_count": 4,
   "id": "a1477c18-f5f0-4c9f-9651-f4c9d5f99119",
   "metadata": {},
   "outputs": [
    {
     "data": {
      "text/html": [
       "<div>\n",
       "<style scoped>\n",
       "    .dataframe tbody tr th:only-of-type {\n",
       "        vertical-align: middle;\n",
       "    }\n",
       "\n",
       "    .dataframe tbody tr th {\n",
       "        vertical-align: top;\n",
       "    }\n",
       "\n",
       "    .dataframe thead th {\n",
       "        text-align: right;\n",
       "    }\n",
       "</style>\n",
       "<table border=\"1\" class=\"dataframe\">\n",
       "  <thead>\n",
       "    <tr style=\"text-align: right;\">\n",
       "      <th></th>\n",
       "      <th>id</th>\n",
       "      <th>title</th>\n",
       "      <th>url</th>\n",
       "      <th>author</th>\n",
       "      <th>score</th>\n",
       "    </tr>\n",
       "  </thead>\n",
       "  <tbody>\n",
       "    <tr>\n",
       "      <th>0</th>\n",
       "      <td>7530721</td>\n",
       "      <td>David \"Debt\" Graeber evicted, claims revenge-h...</td>\n",
       "      <td>http://boingboing.net/2014/04/03/david-debt-gr...</td>\n",
       "      <td>reirob</td>\n",
       "      <td>52</td>\n",
       "    </tr>\n",
       "    <tr>\n",
       "      <th>1</th>\n",
       "      <td>7295114</td>\n",
       "      <td>Joint Statement Regarding MtGox</td>\n",
       "      <td>http://blog.coinbase.com/post/77766809700/join...</td>\n",
       "      <td>jordhy</td>\n",
       "      <td>53</td>\n",
       "    </tr>\n",
       "    <tr>\n",
       "      <th>2</th>\n",
       "      <td>7799471</td>\n",
       "      <td>HackerChat – A private chat for the HN community</td>\n",
       "      <td>http://hackerchat.co</td>\n",
       "      <td>gianluka</td>\n",
       "      <td>53</td>\n",
       "    </tr>\n",
       "    <tr>\n",
       "      <th>3</th>\n",
       "      <td>8067945</td>\n",
       "      <td>Children Exposed To Religion Have Difficulty D...</td>\n",
       "      <td>http://www.huffingtonpost.com/2014/07/21/child...</td>\n",
       "      <td>givan</td>\n",
       "      <td>54</td>\n",
       "    </tr>\n",
       "    <tr>\n",
       "      <th>4</th>\n",
       "      <td>6828620</td>\n",
       "      <td>\"Sheep Marketplace was founded and run by Tomá...</td>\n",
       "      <td>http://pastebin.com/raw.php?i=9spTATw6</td>\n",
       "      <td>moyix</td>\n",
       "      <td>55</td>\n",
       "    </tr>\n",
       "  </tbody>\n",
       "</table>\n",
       "</div>"
      ],
      "text/plain": [
       "        id                                              title  \\\n",
       "0  7530721  David \"Debt\" Graeber evicted, claims revenge-h...   \n",
       "1  7295114                    Joint Statement Regarding MtGox   \n",
       "2  7799471   HackerChat – A private chat for the HN community   \n",
       "3  8067945  Children Exposed To Religion Have Difficulty D...   \n",
       "4  6828620  \"Sheep Marketplace was founded and run by Tomá...   \n",
       "\n",
       "                                                 url    author  score  \n",
       "0  http://boingboing.net/2014/04/03/david-debt-gr...    reirob     52  \n",
       "1  http://blog.coinbase.com/post/77766809700/join...    jordhy     53  \n",
       "2                               http://hackerchat.co  gianluka     53  \n",
       "3  http://www.huffingtonpost.com/2014/07/21/child...     givan     54  \n",
       "4             http://pastebin.com/raw.php?i=9spTATw6     moyix     55  "
      ]
     },
     "execution_count": 4,
     "metadata": {},
     "output_type": "execute_result"
    }
   ],
   "source": [
    "news.head()"
   ]
  },
  {
   "cell_type": "code",
   "execution_count": 5,
   "id": "8e1c1833-8d7e-4b88-955c-18287ea6bdc3",
   "metadata": {},
   "outputs": [],
   "source": [
    "def normalize_text(s):\n",
    "    s = s.lower()\n",
    "    \n",
    "    # remove punctuation that is not word-internal (e.g., hyphens, apostrophes)\n",
    "    s = re.sub('\\s\\W',' ',s)\n",
    "    s = re.sub('\\W\\s',' ',s)\n",
    "    \n",
    "    # make sure we didn't introduce any double spaces\n",
    "    s = re.sub('\\s+',' ',s)\n",
    "    \n",
    "    return s"
   ]
  },
  {
   "cell_type": "code",
   "execution_count": 6,
   "id": "510822e9-67dd-4956-aa69-65d8cacefba4",
   "metadata": {},
   "outputs": [],
   "source": [
    "news['text'] = [normalize_text(s) for s in news['title']]"
   ]
  },
  {
   "cell_type": "code",
   "execution_count": 7,
   "id": "3ed7a09c-14ef-47a6-9192-9160d749f1c2",
   "metadata": {},
   "outputs": [],
   "source": [
    "news['baseurl'] = [urlsplit(s).netloc if type(s) == str else '' for s in news['url']]"
   ]
  },
  {
   "cell_type": "code",
   "execution_count": 8,
   "id": "143bc21f-beab-4b1d-8140-518be41d5d87",
   "metadata": {},
   "outputs": [],
   "source": [
    "from collections import Counter"
   ]
  },
  {
   "cell_type": "code",
   "execution_count": 9,
   "id": "ecc249c8-ed9b-49a3-bb56-d9a2846e7202",
   "metadata": {},
   "outputs": [
    {
     "data": {
      "text/plain": [
       "[(2779, ''),\n",
       " (2597, 'github.com'),\n",
       " (1894, 'techcrunch.com'),\n",
       " (1674, 'www.nytimes.com'),\n",
       " (989, 'arstechnica.com'),\n",
       " (920, 'www.wired.com'),\n",
       " (655, 'medium.com'),\n",
       " (610, 'www.washingtonpost.com'),\n",
       " (596, 'www.bbc.co.uk'),\n",
       " (485, 'www.theatlantic.com'),\n",
       " (409, 'www.theguardian.com'),\n",
       " (389, 'en.wikipedia.org'),\n",
       " (353, 'www.youtube.com'),\n",
       " (343, 'www.economist.com'),\n",
       " (340, 'www.eff.org'),\n",
       " (334, 'thenextweb.com'),\n",
       " (331, 'www.bloomberg.com'),\n",
       " (318, 'online.wsj.com'),\n",
       " (311, 'www.google.com'),\n",
       " (311, 'plus.google.com'),\n",
       " (309, 'www.forbes.com'),\n",
       " (298, 'www.slate.com'),\n",
       " (288, 'www.npr.org'),\n",
       " (281, 'www.bbc.com'),\n",
       " (264, 'www.newyorker.com'),\n",
       " (255, 'groups.google.com'),\n",
       " (235, 'code.google.com'),\n",
       " (228, 'stackoverflow.com'),\n",
       " (226, 'venturebeat.com'),\n",
       " (216, 'www.reddit.com'),\n",
       " (213, 'www.kickstarter.com'),\n",
       " (213, 'gigaom.com'),\n",
       " (210, 'www.techcrunch.com'),\n",
       " (210, 'torrentfreak.com'),\n",
       " (208, 'www.reuters.com'),\n",
       " (184, 'news.cnet.com'),\n",
       " (180, '37signals.com'),\n",
       " (177, 'blogs.wsj.com'),\n",
       " (177, 'blogs.msdn.com'),\n",
       " (176, 'gist.github.com'),\n",
       " (170, 'daringfireball.net'),\n",
       " (163, 'www.zdnet.com'),\n",
       " (163, 'www.extremetech.com'),\n",
       " (162, 'www.techdirt.com'),\n",
       " (161, 'googleblog.blogspot.com'),\n",
       " (156, 'www.engadget.com'),\n",
       " (153, 'www.technologyreview.com'),\n",
       " (149, 'lwn.net'),\n",
       " (148, 'www.facebook.com'),\n",
       " (146, 'www.theregister.co.uk')]"
      ]
     },
     "execution_count": 9,
     "metadata": {},
     "output_type": "execute_result"
    }
   ],
   "source": [
    "counturls = Counter(news['baseurl'])\n",
    "counturls = [(v, k) for k, v in counturls.items()]\n",
    "counturls.sort(reverse=True)\n",
    "counturls[0:50]"
   ]
  },
  {
   "cell_type": "code",
   "execution_count": 10,
   "id": "016ec5e5-5210-42cd-bbf0-783615c6c727",
   "metadata": {},
   "outputs": [],
   "source": [
    "def categorize(url, title):\n",
    "    techy = [\"github.com\",\n",
    "             'code.google.com',\n",
    "             'stackoverflow.com',\n",
    "             'groups.google.com',\n",
    "             \"googleblog.blogspot.com\",\n",
    "             \"lwn.net\"]\n",
    "    nottechy = [\"www.nytimes.com\", \n",
    "                \"www.washingtonpost.com\", \n",
    "                \"www.youtube.com\", \n",
    "                \"www.bbc.co.uk\", \n",
    "                \"www.bloomberg.com\", \n",
    "                \"www.forbes.com\",\n",
    "                'www.slate.com',\n",
    "                'www.npr.org',\n",
    "                'www.bbc.com',\n",
    "                'www.newyorker.com']\n",
    "    category = 'unknown'\n",
    "    if url in techy:\n",
    "        category = 'tech'\n",
    "    elif url in nottechy:\n",
    "        category = 'not_tech'\n",
    "    if str.startswith(title, \"Show HN:\") or str.startswith(title, \"Ask HN:\"):\n",
    "        category = 'tech'\n",
    "    return category\n",
    "news['category'] = [categorize(url, title) for url, title in zip(news['baseurl'], news['title'])]"
   ]
  },
  {
   "cell_type": "code",
   "execution_count": 11,
   "id": "211baa1e-5d6e-4973-86fc-af09a740702d",
   "metadata": {},
   "outputs": [
    {
     "data": {
      "text/html": [
       "<div>\n",
       "<style scoped>\n",
       "    .dataframe tbody tr th:only-of-type {\n",
       "        vertical-align: middle;\n",
       "    }\n",
       "\n",
       "    .dataframe tbody tr th {\n",
       "        vertical-align: top;\n",
       "    }\n",
       "\n",
       "    .dataframe thead th {\n",
       "        text-align: right;\n",
       "    }\n",
       "</style>\n",
       "<table border=\"1\" class=\"dataframe\">\n",
       "  <thead>\n",
       "    <tr style=\"text-align: right;\">\n",
       "      <th></th>\n",
       "      <th>id</th>\n",
       "      <th>title</th>\n",
       "      <th>url</th>\n",
       "      <th>author</th>\n",
       "      <th>score</th>\n",
       "      <th>text</th>\n",
       "      <th>baseurl</th>\n",
       "      <th>category</th>\n",
       "    </tr>\n",
       "  </thead>\n",
       "  <tbody>\n",
       "    <tr>\n",
       "      <th>0</th>\n",
       "      <td>7530721</td>\n",
       "      <td>David \"Debt\" Graeber evicted, claims revenge-h...</td>\n",
       "      <td>http://boingboing.net/2014/04/03/david-debt-gr...</td>\n",
       "      <td>reirob</td>\n",
       "      <td>52</td>\n",
       "      <td>david debt graeber evicted claims revenge-hara...</td>\n",
       "      <td>boingboing.net</td>\n",
       "      <td>unknown</td>\n",
       "    </tr>\n",
       "    <tr>\n",
       "      <th>1</th>\n",
       "      <td>7295114</td>\n",
       "      <td>Joint Statement Regarding MtGox</td>\n",
       "      <td>http://blog.coinbase.com/post/77766809700/join...</td>\n",
       "      <td>jordhy</td>\n",
       "      <td>53</td>\n",
       "      <td>joint statement regarding mtgox</td>\n",
       "      <td>blog.coinbase.com</td>\n",
       "      <td>unknown</td>\n",
       "    </tr>\n",
       "    <tr>\n",
       "      <th>2</th>\n",
       "      <td>7799471</td>\n",
       "      <td>HackerChat – A private chat for the HN community</td>\n",
       "      <td>http://hackerchat.co</td>\n",
       "      <td>gianluka</td>\n",
       "      <td>53</td>\n",
       "      <td>hackerchat a private chat for the hn community</td>\n",
       "      <td>hackerchat.co</td>\n",
       "      <td>unknown</td>\n",
       "    </tr>\n",
       "    <tr>\n",
       "      <th>3</th>\n",
       "      <td>8067945</td>\n",
       "      <td>Children Exposed To Religion Have Difficulty D...</td>\n",
       "      <td>http://www.huffingtonpost.com/2014/07/21/child...</td>\n",
       "      <td>givan</td>\n",
       "      <td>54</td>\n",
       "      <td>children exposed to religion have difficulty d...</td>\n",
       "      <td>www.huffingtonpost.com</td>\n",
       "      <td>unknown</td>\n",
       "    </tr>\n",
       "    <tr>\n",
       "      <th>4</th>\n",
       "      <td>6828620</td>\n",
       "      <td>\"Sheep Marketplace was founded and run by Tomá...</td>\n",
       "      <td>http://pastebin.com/raw.php?i=9spTATw6</td>\n",
       "      <td>moyix</td>\n",
       "      <td>55</td>\n",
       "      <td>\"sheep marketplace was founded and run by tomá...</td>\n",
       "      <td>pastebin.com</td>\n",
       "      <td>unknown</td>\n",
       "    </tr>\n",
       "  </tbody>\n",
       "</table>\n",
       "</div>"
      ],
      "text/plain": [
       "        id                                              title  \\\n",
       "0  7530721  David \"Debt\" Graeber evicted, claims revenge-h...   \n",
       "1  7295114                    Joint Statement Regarding MtGox   \n",
       "2  7799471   HackerChat – A private chat for the HN community   \n",
       "3  8067945  Children Exposed To Religion Have Difficulty D...   \n",
       "4  6828620  \"Sheep Marketplace was founded and run by Tomá...   \n",
       "\n",
       "                                                 url    author  score  \\\n",
       "0  http://boingboing.net/2014/04/03/david-debt-gr...    reirob     52   \n",
       "1  http://blog.coinbase.com/post/77766809700/join...    jordhy     53   \n",
       "2                               http://hackerchat.co  gianluka     53   \n",
       "3  http://www.huffingtonpost.com/2014/07/21/child...     givan     54   \n",
       "4             http://pastebin.com/raw.php?i=9spTATw6     moyix     55   \n",
       "\n",
       "                                                text                 baseurl  \\\n",
       "0  david debt graeber evicted claims revenge-hara...          boingboing.net   \n",
       "1                    joint statement regarding mtgox       blog.coinbase.com   \n",
       "2     hackerchat a private chat for the hn community           hackerchat.co   \n",
       "3  children exposed to religion have difficulty d...  www.huffingtonpost.com   \n",
       "4  \"sheep marketplace was founded and run by tomá...            pastebin.com   \n",
       "\n",
       "  category  \n",
       "0  unknown  \n",
       "1  unknown  \n",
       "2  unknown  \n",
       "3  unknown  \n",
       "4  unknown  "
      ]
     },
     "execution_count": 11,
     "metadata": {},
     "output_type": "execute_result"
    }
   ],
   "source": [
    "news[news['category'] == 'unknown'].head()"
   ]
  },
  {
   "cell_type": "code",
   "execution_count": 12,
   "id": "bf125695-73b4-429d-b124-700bcdf079f6",
   "metadata": {},
   "outputs": [
    {
     "name": "stdout",
     "output_type": "stream",
     "text": [
      "712464\n",
      "98520\n"
     ]
    }
   ],
   "source": [
    "print(news.size)\n",
    "tnews= news[news['category'] != 'unknown']\n",
    "print(tnews.size)"
   ]
  },
  {
   "cell_type": "code",
   "execution_count": 13,
   "id": "e20ac90d-e1d9-4b17-b2f3-7a196693eb7a",
   "metadata": {},
   "outputs": [
    {
     "name": "stdout",
     "output_type": "stream",
     "text": [
      "(9852, 14329)\n",
      "(9852,)\n",
      "(2463, 14329)\n",
      "(2463,)\n"
     ]
    }
   ],
   "source": [
    "# pull the data into vectors\n",
    "vectorizer = CountVectorizer()\n",
    "x = vectorizer.fit_transform(tnews['text'])\n",
    "\n",
    "encoder = LabelEncoder()\n",
    "y = encoder.fit_transform(tnews['category'])\n",
    "\n",
    "# split into train and test sets\n",
    "x_train, x_test, y_train, y_test = train_test_split(x, y, test_size=0.2)\n",
    "\n",
    "# take a look at the shape of each of these\n",
    "print(x_train.shape)\n",
    "print(y_train.shape)\n",
    "print(x_test.shape)\n",
    "print(y_test.shape)"
   ]
  },
  {
   "cell_type": "code",
   "execution_count": null,
   "id": "c4ca6785-80e6-4be8-9df6-cc1a5452f0e1",
   "metadata": {},
   "outputs": [],
   "source": []
  },
  {
   "cell_type": "code",
   "execution_count": 14,
   "id": "475d592b-c0fd-4463-bf57-ee09020aa54b",
   "metadata": {},
   "outputs": [
    {
     "data": {
      "text/plain": [
       "MultinomialNB()"
      ]
     },
     "execution_count": 14,
     "metadata": {},
     "output_type": "execute_result"
    }
   ],
   "source": [
    "nb = MultinomialNB()\n",
    "nb.fit(x_train, y_train)"
   ]
  },
  {
   "cell_type": "code",
   "execution_count": 15,
   "id": "c6928221-c3f5-47d3-a4c2-00369f4e1cd6",
   "metadata": {},
   "outputs": [
    {
     "data": {
      "text/plain": [
       "0.9326025172553796"
      ]
     },
     "execution_count": 15,
     "metadata": {},
     "output_type": "execute_result"
    }
   ],
   "source": [
    "nb.score(x_test, y_test)"
   ]
  },
  {
   "cell_type": "code",
   "execution_count": 16,
   "id": "d95da7ae-ccf7-4784-b067-312ba1875aa0",
   "metadata": {},
   "outputs": [],
   "source": [
    "import pickle\n",
    "pickle.dump({'vocabulary': vectorizer.vocabulary_, 'model': nb},open(\"model.pkl\",\"wb\"))"
   ]
  },
  {
   "cell_type": "code",
   "execution_count": 17,
   "id": "3618027e-609e-4348-a669-8b97a4bc2ee3",
   "metadata": {},
   "outputs": [
    {
     "name": "stdout",
     "output_type": "stream",
     "text": [
      "[1]\n",
      "[1]\n",
      "[0]\n"
     ]
    }
   ],
   "source": [
    "def predict(titles):\n",
    "    mdata = pickle.load(open(\"model.pkl\",\"rb\"))\n",
    "    vectorizer = CountVectorizer(decode_error=\"replace\",vocabulary=mdata['vocabulary'])\n",
    "    x = vectorizer.fit_transform(titles)\n",
    "    return mdata['model'].predict(x)\n",
    "print(predict(np.array([\"Show HN\"])))\n",
    "print(predict(np.array([\"Ask HN\"])))\n",
    "print(predict(np.array([\"Is Going to the Office a Broken Way of Working?\"])))\n"
   ]
  },
  {
   "cell_type": "code",
   "execution_count": 18,
   "id": "eb34d0a0-2acf-4dfb-b28f-5e4d105994c8",
   "metadata": {},
   "outputs": [
    {
     "name": "stdout",
     "output_type": "stream",
     "text": [
      "('David \"Debt\" Graeber evicted, claims revenge-harassment for OWS participation', 0)\n",
      "('Joint Statement Regarding MtGox', 0)\n",
      "('HackerChat – A private chat for the HN community', 1)\n",
      "('Children Exposed To Religion Have Difficulty Distinguishing Fact From Fiction', 0)\n",
      "('\"Sheep Marketplace was founded and run by Tomáš Jiřikovský\"', 0)\n",
      "('“Happy Birthday” is not in copyright', 0)\n",
      "('Fleep wants to replace email like mobile phones replaced landlines', 1)\n",
      "('Chocolatey Kickstarter – Help get Chocolatey to the next level', 1)\n",
      "('GMail now allows you to send money', 1)\n",
      "('Did you invent Bitcoin?  Take our simple quiz to find out.', 1)\n",
      "('OH HAI SEXISM', 1)\n",
      "('I am not who you think I am', 1)\n",
      "('Why I Ditched The Cushy VC World To Start Kohort', 0)\n",
      "('Coolant Crisis – From Agile Teamwork to Lone-Wolf Game Development', 0)\n",
      "('Intro to Bitcoin [video]', 0)\n",
      "('The Datacenter as a Computer, Second edition', 0)\n",
      "('Matchure: pattern matching library for Clojure', 1)\n",
      "('Anatomy of the Linux virtual file system switch', 1)\n",
      "('Linux kernel initialization process, part 3', 1)\n",
      "('Multi-Core Ant Colony Optimization for TSP in Erlang', 1)\n",
      "('Two line fix to speed up canvas performance on iPhone4', 1)\n",
      "('Ask PG: What is the best non-computer hack ever described in a YC application?', 1)\n",
      "('F.B.I. Informant Is Tied to Cyberattacks Abroad', 0)\n",
      "('Launching javOSize the next generation of java profiler', 1)\n",
      "('MPAA Using Megaupload Case as Backdoor SOPA, Court Hears', 0)\n",
      "('Letters from Fukushima: Tepco Worker Emails', 0)\n",
      "('The Brilliant Life and Tragic Death of Aaron Swartz', 0)\n",
      "('Obfuscated Erlang Competition Results', 1)\n",
      "('Rob Pike on the legacy of Dennis Ritchie, C & Unix', 1)\n",
      "('The Unix Philosophy', 1)\n",
      "('Software in 2014', 1)\n",
      "('Those making $1,000+/month on side projects – what did you make?', 1)\n",
      "('Rob Pike on Google Go: Concurrency, Type System, Memory Management and GC', 1)\n",
      "('The next thing Silicon Valley needs to disrupt big time: its own culture', 0)\n",
      "(\"KDE, open-source and a student's journey as a programmer\", 1)\n",
      "('Jitsu: Just-In-Time Summoning of Unikernels', 1)\n",
      "('Pycket – A Tracing JIT for a Functional Language [pdf]', 1)\n",
      "('Bill Gates Makes Statement on Steve Jobs', 0)\n",
      "('Recent Progress in Quantum Algorithms', 1)\n",
      "('Dr. Edmund Weitz: The Power Of Lisp Macros', 0)\n",
      "('Sign up to offer support to Ahmed Mohamed', 1)\n",
      "(\"Mark Twain's Friendship with Hellen Keller\", 0)\n",
      "('“Mr. Windows” Bets Big on the Mesosphere Datacenter OS', 1)\n",
      "('The Best Questions For A First Date', 1)\n",
      "('Work at a YC Startup v2', 1)\n",
      "('Exceptional Iron-Age elite tomb discovered in France', 0)\n",
      "('Show HN: Ah – a better history', 1)\n",
      "('Backbone.js for large scale applications - applying UI Architecture', 1)\n",
      "('Lessons learned and misconceptions regarding encryption and cryptology', 1)\n",
      "('Curated List of Common Lisp frameworks, libraries and other shiny stuff', 1)\n"
     ]
    }
   ],
   "source": [
    "data = list(zip(news['title'], predict(news['title'])))\n",
    "for x in data[0:50]:\n",
    "    print(x)\n"
   ]
  },
  {
   "cell_type": "raw",
   "id": "265fedce-7b69-4b23-a749-9dfb875c7afe",
   "metadata": {
    "tags": []
   },
   "source": []
  },
  {
   "cell_type": "code",
   "execution_count": null,
   "id": "e4380d47-81a1-47bb-ab37-3cf4adc0acf6",
   "metadata": {},
   "outputs": [],
   "source": []
  }
 ],
 "metadata": {
  "kernelspec": {
   "display_name": "Python 3",
   "language": "python",
   "name": "python3"
  },
  "language_info": {
   "codemirror_mode": {
    "name": "ipython",
    "version": 3
   },
   "file_extension": ".py",
   "mimetype": "text/x-python",
   "name": "python",
   "nbconvert_exporter": "python",
   "pygments_lexer": "ipython3",
   "version": "3.6.9"
  }
 },
 "nbformat": 4,
 "nbformat_minor": 5
}
